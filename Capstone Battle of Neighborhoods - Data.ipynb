{
    "nbformat_minor": 1, 
    "cells": [
        {
            "source": "# Table of contents\n\n## Part 1\n\n[2.0.0 A description of the data and how it will be used to solve the problem](#2.0.0)<br>\n<br>", 
            "cell_type": "markdown", 
            "metadata": {}
        }, 
        {
            "source": "\n## 2.0.0 A description of the data and how it will be used to solve the problem<a name=\"2.0.0\"></a> (15 marks)\n\n\n### Tourism venues\n\n### Data: Foursquare data will be used to identify the maximum number of venues that fit this criteria. <br> How: K-means will be used to build clusters that are near the prospective property.\n\n\n### Demographic statistics\n\n### Data: Wikipedia data will be used to identify the demographics that fit this criteria. <br>How: Web scraping wiki table data.\n\n\n### Financial criteria\n\n### Data: Real estate market data from Redfin or other sites will be used to identify the properties that fit this financial criteria. <br>How: Downloading and merging several .csv files into dataframes that will be used to find the prospective property at the right price.\n\n\n### Geographic markers\n\n### Data: Google maps data will be used to find cities that match the criteria. <br>How: web map interface will be used to calculate distances between LAX and find different cities that are near highway 101.\n\n\n### Property characteristics\n\n### Data: Real estate market data from Redfin or other sites will be used to identify the properties that fit this criteria. <br> How: Downloading and merging several .csv files into dataframes that will be used to extract the key elements and find the prospective propertywith the minimum number of rooms.\n\n\n### After completion of these data wrangling tasks and weeding out some locations, the number of prospective properties should be narrowed down considerably. If prospective properties are still too numerous to analyze, then the real estate data from Redfin or other real estate data will be merged with the Foursquare data. The merging of this data will greatly facilitate finding the most suitable properties overall.\n\n### The final results should a list of one to five prospective properties that my friend can later visit and make a final purchasing decision.\n", 
            "cell_type": "markdown", 
            "metadata": {}
        }, 
        {
            "execution_count": null, 
            "cell_type": "code", 
            "metadata": {}, 
            "outputs": [], 
            "source": ""
        }
    ], 
    "metadata": {
        "kernelspec": {
            "display_name": "Python 3.5", 
            "name": "python3", 
            "language": "python"
        }, 
        "language_info": {
            "mimetype": "text/x-python", 
            "nbconvert_exporter": "python", 
            "version": "3.5.5", 
            "name": "python", 
            "file_extension": ".py", 
            "pygments_lexer": "ipython3", 
            "codemirror_mode": {
                "version": 3, 
                "name": "ipython"
            }
        }
    }, 
    "nbformat": 4
}