{
    "nbformat_minor": 1, 
    "cells": [
        {
            "source": "# Table of contents\n\n## Part 1\n[1.0.0 A description of the problem and a discussion of the background](#1.0.0)<br>\n[1.1.0 Background](#1.1.0)<br>\n[1.2.0 Defining the Business Problem](#1.2.0)<br>\n<br>", 
            "cell_type": "markdown", 
            "metadata": {}
        }, 
        {
            "source": "## 1.0.0 A description of the problem and a discussion of the background<a name=\"1.0.0\"></a> (15 marks)\n\n\n## 1.1.0 Background<a name=\"1.1.0\"></a>\n\n### Over the last few years there has been an explosion of AIR-BnB properties popping up across the state of California with no signs of abating. There is a wide variety of properties from bachelor pads to 8 room mansions. However, there remains a niche market that AirBnB does not compete with directly, namely Bed & Breakfasts. Some travellers prefer the rustic charm of a smaller place to stay and have the opportunity to chat with the owner and locals. They are looking to absorb the local culture and enjoy the outdoors free from unfettered commercialism like Disneyland or Seaworld.\n\n### My friend is an architect and has travelled the world throughout his career and is soon to retire in southern California. He  is looking to focus on this niche market and open a luxury Bed & Breakfast and run it as a family business. This will allow him to meet lots of interesting people without having to travel himself. His vision is to open a retreat that focuses on nature and tranquility. The B&B will offer yoga classes, massage therapies, and organic cuisine. He plans on calling it _Auberge Beau Sejour_\n\n### He made a lot of money when his company recently went IPO. Therefore, his budget is 4 million dollars to buy a property and convert it into a B&B. Real estate along the California coast is very expensive, and 4 million dollars is likely the minimum amount needed to buy something suitable near the ocean. The availability of properties is scarce and this project might not be a success. My friend still travels a lot, and does not have the time to research mutiple web sites and find the necessary information. He will offer me a free two week stay, if I complete this project for him. Nevertheless, he has a good idea of what he is looking for. Here is a summary of the minimum requirements he proposes. \n\n\n### Tourism venues\n###   - The property must be close to several outdoor venues like beaches and parks.<br>- The property's must be close to venues like wine tasting rooms and wineries.\n\n### Demographic statistics\n###   - The chosen county must have a crime rate well below average for the state of California.<br>- The chosen city must have at least 30,000 per capita income.\n\n### Financial criteria\n###   - The total cost of the property must be below 4 million dollars.\n\n### Geographic markers\n###   - The property must be within a 2 hour drive of LAX airport.<br>- The property must be close as possible to highway 101, with access to the beach having a higher priority.\n\n### Property characteristics\n### - The property should be able to accommodate a minimum of six guests or have at least four bedrooms.\n", 
            "cell_type": "markdown", 
            "metadata": {
                "collapsed": true
            }
        }, 
        {
            "source": "## 1.2.0 Defining the Business Problem<a name=\"1.2.0\"></a>\n\n### The business problem is centered around finding a piece of real estate that fits all of these conditions.  \n", 
            "cell_type": "markdown", 
            "metadata": {}
        }, 
        {
            "execution_count": null, 
            "cell_type": "code", 
            "metadata": {}, 
            "outputs": [], 
            "source": ""
        }
    ], 
    "metadata": {
        "kernelspec": {
            "display_name": "Python 3.5", 
            "name": "python3", 
            "language": "python"
        }, 
        "language_info": {
            "mimetype": "text/x-python", 
            "nbconvert_exporter": "python", 
            "version": "3.5.5", 
            "name": "python", 
            "file_extension": ".py", 
            "pygments_lexer": "ipython3", 
            "codemirror_mode": {
                "version": 3, 
                "name": "ipython"
            }
        }
    }, 
    "nbformat": 4
}